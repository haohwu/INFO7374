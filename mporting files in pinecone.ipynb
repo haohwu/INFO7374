{
 "cells": [
  {
   "cell_type": "code",
   "execution_count": 2,
   "metadata": {},
   "outputs": [
    {
     "name": "stdout",
     "output_type": "stream",
     "text": [
      "Requirement already satisfied: langchain in c:\\users\\shami\\appdata\\local\\programs\\python\\python311\\lib\\site-packages (0.2.1)\n",
      "Requirement already satisfied: openai in c:\\users\\shami\\appdata\\local\\programs\\python\\python311\\lib\\site-packages (1.30.5)\n",
      "Requirement already satisfied: PyYAML>=5.3 in c:\\users\\shami\\appdata\\local\\programs\\python\\python311\\lib\\site-packages (from langchain) (6.0.1)\n",
      "Requirement already satisfied: SQLAlchemy<3,>=1.4 in c:\\users\\shami\\appdata\\local\\programs\\python\\python311\\lib\\site-packages (from langchain) (1.4.51)\n",
      "Requirement already satisfied: aiohttp<4.0.0,>=3.8.3 in c:\\users\\shami\\appdata\\local\\programs\\python\\python311\\lib\\site-packages (from langchain) (3.9.1)\n",
      "Requirement already satisfied: langchain-core<0.3.0,>=0.2.0 in c:\\users\\shami\\appdata\\local\\programs\\python\\python311\\lib\\site-packages (from langchain) (0.2.2)\n",
      "Requirement already satisfied: langchain-text-splitters<0.3.0,>=0.2.0 in c:\\users\\shami\\appdata\\local\\programs\\python\\python311\\lib\\site-packages (from langchain) (0.2.0)\n",
      "Requirement already satisfied: langsmith<0.2.0,>=0.1.17 in c:\\users\\shami\\appdata\\local\\programs\\python\\python311\\lib\\site-packages (from langchain) (0.1.65)\n",
      "Requirement already satisfied: numpy<2,>=1 in c:\\users\\shami\\appdata\\local\\programs\\python\\python311\\lib\\site-packages (from langchain) (1.26.4)\n",
      "Requirement already satisfied: pydantic<3,>=1 in c:\\users\\shami\\appdata\\local\\programs\\python\\python311\\lib\\site-packages (from langchain) (2.5.3)\n",
      "Requirement already satisfied: requests<3,>=2 in c:\\users\\shami\\appdata\\local\\programs\\python\\python311\\lib\\site-packages (from langchain) (2.31.0)\n",
      "Requirement already satisfied: tenacity<9.0.0,>=8.1.0 in c:\\users\\shami\\appdata\\local\\programs\\python\\python311\\lib\\site-packages (from langchain) (8.2.3)\n",
      "Requirement already satisfied: anyio<5,>=3.5.0 in c:\\users\\shami\\appdata\\local\\programs\\python\\python311\\lib\\site-packages (from openai) (4.2.0)\n",
      "Requirement already satisfied: distro<2,>=1.7.0 in c:\\users\\shami\\appdata\\local\\programs\\python\\python311\\lib\\site-packages (from openai) (1.9.0)\n",
      "Requirement already satisfied: httpx<1,>=0.23.0 in c:\\users\\shami\\appdata\\local\\programs\\python\\python311\\lib\\site-packages (from openai) (0.23.3)\n",
      "Requirement already satisfied: sniffio in c:\\users\\shami\\appdata\\local\\programs\\python\\python311\\lib\\site-packages (from openai) (1.3.0)\n",
      "Requirement already satisfied: tqdm>4 in c:\\users\\shami\\appdata\\local\\programs\\python\\python311\\lib\\site-packages (from openai) (4.65.0)\n",
      "Requirement already satisfied: typing-extensions<5,>=4.7 in c:\\users\\shami\\appdata\\local\\programs\\python\\python311\\lib\\site-packages (from openai) (4.9.0)\n",
      "Requirement already satisfied: attrs>=17.3.0 in c:\\users\\shami\\appdata\\local\\programs\\python\\python311\\lib\\site-packages (from aiohttp<4.0.0,>=3.8.3->langchain) (23.2.0)\n",
      "Requirement already satisfied: multidict<7.0,>=4.5 in c:\\users\\shami\\appdata\\local\\programs\\python\\python311\\lib\\site-packages (from aiohttp<4.0.0,>=3.8.3->langchain) (6.0.4)\n",
      "Requirement already satisfied: yarl<2.0,>=1.0 in c:\\users\\shami\\appdata\\local\\programs\\python\\python311\\lib\\site-packages (from aiohttp<4.0.0,>=3.8.3->langchain) (1.9.4)\n",
      "Requirement already satisfied: frozenlist>=1.1.1 in c:\\users\\shami\\appdata\\local\\programs\\python\\python311\\lib\\site-packages (from aiohttp<4.0.0,>=3.8.3->langchain) (1.4.1)\n",
      "Requirement already satisfied: aiosignal>=1.1.2 in c:\\users\\shami\\appdata\\local\\programs\\python\\python311\\lib\\site-packages (from aiohttp<4.0.0,>=3.8.3->langchain) (1.3.1)\n",
      "Requirement already satisfied: idna>=2.8 in c:\\users\\shami\\appdata\\local\\programs\\python\\python311\\lib\\site-packages (from anyio<5,>=3.5.0->openai) (3.6)\n",
      "Requirement already satisfied: certifi in c:\\users\\shami\\appdata\\local\\programs\\python\\python311\\lib\\site-packages (from httpx<1,>=0.23.0->openai) (2023.11.17)\n",
      "Requirement already satisfied: httpcore<0.17.0,>=0.15.0 in c:\\users\\shami\\appdata\\local\\programs\\python\\python311\\lib\\site-packages (from httpx<1,>=0.23.0->openai) (0.16.3)\n",
      "Requirement already satisfied: rfc3986[idna2008]<2,>=1.3 in c:\\users\\shami\\appdata\\local\\programs\\python\\python311\\lib\\site-packages (from httpx<1,>=0.23.0->openai) (1.5.0)\n",
      "Requirement already satisfied: jsonpatch<2.0,>=1.33 in c:\\users\\shami\\appdata\\local\\programs\\python\\python311\\lib\\site-packages (from langchain-core<0.3.0,>=0.2.0->langchain) (1.33)\n",
      "Requirement already satisfied: packaging<24.0,>=23.2 in c:\\users\\shami\\appdata\\local\\programs\\python\\python311\\lib\\site-packages (from langchain-core<0.3.0,>=0.2.0->langchain) (23.2)\n",
      "Requirement already satisfied: orjson<4.0.0,>=3.9.14 in c:\\users\\shami\\appdata\\local\\programs\\python\\python311\\lib\\site-packages (from langsmith<0.2.0,>=0.1.17->langchain) (3.10.3)\n",
      "Requirement already satisfied: annotated-types>=0.4.0 in c:\\users\\shami\\appdata\\local\\programs\\python\\python311\\lib\\site-packages (from pydantic<3,>=1->langchain) (0.6.0)\n",
      "Requirement already satisfied: pydantic-core==2.14.6 in c:\\users\\shami\\appdata\\local\\programs\\python\\python311\\lib\\site-packages (from pydantic<3,>=1->langchain) (2.14.6)\n",
      "Requirement already satisfied: charset-normalizer<4,>=2 in c:\\users\\shami\\appdata\\local\\programs\\python\\python311\\lib\\site-packages (from requests<3,>=2->langchain) (3.3.2)\n",
      "Requirement already satisfied: urllib3<3,>=1.21.1 in c:\\users\\shami\\appdata\\local\\programs\\python\\python311\\lib\\site-packages (from requests<3,>=2->langchain) (1.26.18)\n",
      "Requirement already satisfied: greenlet!=0.4.17 in c:\\users\\shami\\appdata\\local\\programs\\python\\python311\\lib\\site-packages (from SQLAlchemy<3,>=1.4->langchain) (3.0.3)\n",
      "Requirement already satisfied: colorama in c:\\users\\shami\\appdata\\local\\programs\\python\\python311\\lib\\site-packages (from tqdm>4->openai) (0.4.6)\n",
      "Requirement already satisfied: h11<0.15,>=0.13 in c:\\users\\shami\\appdata\\local\\programs\\python\\python311\\lib\\site-packages (from httpcore<0.17.0,>=0.15.0->httpx<1,>=0.23.0->openai) (0.14.0)\n",
      "Requirement already satisfied: jsonpointer>=1.9 in c:\\users\\shami\\appdata\\local\\programs\\python\\python311\\lib\\site-packages (from jsonpatch<2.0,>=1.33->langchain-core<0.3.0,>=0.2.0->langchain) (2.3)\n",
      "Note: you may need to restart the kernel to use updated packages.\n"
     ]
    },
    {
     "name": "stderr",
     "output_type": "stream",
     "text": [
      "\n",
      "[notice] A new release of pip is available: 23.1.2 -> 24.0\n",
      "[notice] To update, run: python.exe -m pip install --upgrade pip\n"
     ]
    }
   ],
   "source": [
    "pip install langchain openai"
   ]
  },
  {
   "cell_type": "code",
   "execution_count": 3,
   "metadata": {},
   "outputs": [
    {
     "name": "stdout",
     "output_type": "stream",
     "text": [
      "Collecting sentence_transformers\n",
      "  Downloading sentence_transformers-3.0.0-py3-none-any.whl (224 kB)\n",
      "                                              0.0/224.7 kB ? eta -:--:--\n",
      "     --------------                          81.9/224.7 kB 2.3 MB/s eta 0:00:01\n",
      "     -----------------------------          174.1/224.7 kB 1.7 MB/s eta 0:00:01\n",
      "     -------------------------------------- 224.7/224.7 kB 2.3 MB/s eta 0:00:00\n",
      "Requirement already satisfied: transformers<5.0.0,>=4.34.0 in c:\\users\\shami\\appdata\\local\\programs\\python\\python311\\lib\\site-packages (from sentence_transformers) (4.41.1)\n",
      "Requirement already satisfied: tqdm in c:\\users\\shami\\appdata\\local\\programs\\python\\python311\\lib\\site-packages (from sentence_transformers) (4.65.0)\n",
      "Requirement already satisfied: torch>=1.11.0 in c:\\users\\shami\\appdata\\local\\programs\\python\\python311\\lib\\site-packages (from sentence_transformers) (2.0.0)\n",
      "Requirement already satisfied: numpy in c:\\users\\shami\\appdata\\local\\programs\\python\\python311\\lib\\site-packages (from sentence_transformers) (1.26.4)\n",
      "Requirement already satisfied: scikit-learn in c:\\users\\shami\\appdata\\local\\programs\\python\\python311\\lib\\site-packages (from sentence_transformers) (1.2.2)\n",
      "Requirement already satisfied: scipy in c:\\users\\shami\\appdata\\local\\programs\\python\\python311\\lib\\site-packages (from sentence_transformers) (1.10.0)\n",
      "Requirement already satisfied: huggingface-hub>=0.15.1 in c:\\users\\shami\\appdata\\local\\programs\\python\\python311\\lib\\site-packages (from sentence_transformers) (0.23.2)\n",
      "Requirement already satisfied: Pillow in c:\\users\\shami\\appdata\\local\\programs\\python\\python311\\lib\\site-packages (from sentence_transformers) (10.3.0)\n",
      "Requirement already satisfied: filelock in c:\\users\\shami\\appdata\\local\\programs\\python\\python311\\lib\\site-packages (from huggingface-hub>=0.15.1->sentence_transformers) (3.11.0)\n",
      "Requirement already satisfied: fsspec>=2023.5.0 in c:\\users\\shami\\appdata\\local\\programs\\python\\python311\\lib\\site-packages (from huggingface-hub>=0.15.1->sentence_transformers) (2023.12.2)\n",
      "Requirement already satisfied: packaging>=20.9 in c:\\users\\shami\\appdata\\local\\programs\\python\\python311\\lib\\site-packages (from huggingface-hub>=0.15.1->sentence_transformers) (23.2)\n",
      "Requirement already satisfied: pyyaml>=5.1 in c:\\users\\shami\\appdata\\local\\programs\\python\\python311\\lib\\site-packages (from huggingface-hub>=0.15.1->sentence_transformers) (6.0.1)\n",
      "Requirement already satisfied: requests in c:\\users\\shami\\appdata\\local\\programs\\python\\python311\\lib\\site-packages (from huggingface-hub>=0.15.1->sentence_transformers) (2.31.0)\n",
      "Requirement already satisfied: typing-extensions>=3.7.4.3 in c:\\users\\shami\\appdata\\local\\programs\\python\\python311\\lib\\site-packages (from huggingface-hub>=0.15.1->sentence_transformers) (4.9.0)\n",
      "Requirement already satisfied: sympy in c:\\users\\shami\\appdata\\local\\programs\\python\\python311\\lib\\site-packages (from torch>=1.11.0->sentence_transformers) (1.11.1)\n",
      "Requirement already satisfied: networkx in c:\\users\\shami\\appdata\\local\\programs\\python\\python311\\lib\\site-packages (from torch>=1.11.0->sentence_transformers) (3.1)\n",
      "Requirement already satisfied: jinja2 in c:\\users\\shami\\appdata\\local\\programs\\python\\python311\\lib\\site-packages (from torch>=1.11.0->sentence_transformers) (3.1.3)\n",
      "Requirement already satisfied: colorama in c:\\users\\shami\\appdata\\local\\programs\\python\\python311\\lib\\site-packages (from tqdm->sentence_transformers) (0.4.6)\n",
      "Requirement already satisfied: regex!=2019.12.17 in c:\\users\\shami\\appdata\\local\\programs\\python\\python311\\lib\\site-packages (from transformers<5.0.0,>=4.34.0->sentence_transformers) (2023.3.23)\n",
      "Requirement already satisfied: tokenizers<0.20,>=0.19 in c:\\users\\shami\\appdata\\local\\programs\\python\\python311\\lib\\site-packages (from transformers<5.0.0,>=4.34.0->sentence_transformers) (0.19.1)\n",
      "Requirement already satisfied: safetensors>=0.4.1 in c:\\users\\shami\\appdata\\local\\programs\\python\\python311\\lib\\site-packages (from transformers<5.0.0,>=4.34.0->sentence_transformers) (0.4.3)\n",
      "Requirement already satisfied: joblib>=1.1.1 in c:\\users\\shami\\appdata\\local\\programs\\python\\python311\\lib\\site-packages (from scikit-learn->sentence_transformers) (1.2.0)\n",
      "Requirement already satisfied: threadpoolctl>=2.0.0 in c:\\users\\shami\\appdata\\local\\programs\\python\\python311\\lib\\site-packages (from scikit-learn->sentence_transformers) (3.1.0)\n",
      "Requirement already satisfied: MarkupSafe>=2.0 in c:\\users\\shami\\appdata\\local\\programs\\python\\python311\\lib\\site-packages (from jinja2->torch>=1.11.0->sentence_transformers) (2.1.3)\n",
      "Requirement already satisfied: charset-normalizer<4,>=2 in c:\\users\\shami\\appdata\\local\\programs\\python\\python311\\lib\\site-packages (from requests->huggingface-hub>=0.15.1->sentence_transformers) (3.3.2)\n",
      "Requirement already satisfied: idna<4,>=2.5 in c:\\users\\shami\\appdata\\local\\programs\\python\\python311\\lib\\site-packages (from requests->huggingface-hub>=0.15.1->sentence_transformers) (3.6)\n",
      "Requirement already satisfied: urllib3<3,>=1.21.1 in c:\\users\\shami\\appdata\\local\\programs\\python\\python311\\lib\\site-packages (from requests->huggingface-hub>=0.15.1->sentence_transformers) (1.26.18)\n",
      "Requirement already satisfied: certifi>=2017.4.17 in c:\\users\\shami\\appdata\\local\\programs\\python\\python311\\lib\\site-packages (from requests->huggingface-hub>=0.15.1->sentence_transformers) (2023.11.17)\n",
      "Requirement already satisfied: mpmath>=0.19 in c:\\users\\shami\\appdata\\local\\programs\\python\\python311\\lib\\site-packages (from sympy->torch>=1.11.0->sentence_transformers) (1.3.0)\n",
      "Installing collected packages: sentence_transformers\n",
      "Successfully installed sentence_transformers-3.0.0\n",
      "Note: you may need to restart the kernel to use updated packages.\n"
     ]
    },
    {
     "name": "stderr",
     "output_type": "stream",
     "text": [
      "\n",
      "[notice] A new release of pip is available: 23.1.2 -> 24.0\n",
      "[notice] To update, run: python.exe -m pip install --upgrade pip\n"
     ]
    }
   ],
   "source": [
    "pip install sentence_transformers"
   ]
  },
  {
   "cell_type": "code",
   "execution_count": 9,
   "metadata": {},
   "outputs": [
    {
     "name": "stdout",
     "output_type": "stream",
     "text": [
      "Requirement already satisfied: unstructured in c:\\users\\shami\\appdata\\local\\programs\\python\\python311\\lib\\site-packages (0.14.3)\n",
      "Requirement already satisfied: chardet in c:\\users\\shami\\appdata\\local\\programs\\python\\python311\\lib\\site-packages (from unstructured) (5.2.0)\n",
      "Requirement already satisfied: filetype in c:\\users\\shami\\appdata\\local\\programs\\python\\python311\\lib\\site-packages (from unstructured) (1.2.0)\n",
      "Requirement already satisfied: python-magic in c:\\users\\shami\\appdata\\local\\programs\\python\\python311\\lib\\site-packages (from unstructured) (0.4.27)\n",
      "Requirement already satisfied: lxml in c:\\users\\shami\\appdata\\local\\programs\\python\\python311\\lib\\site-packages (from unstructured) (4.9.2)\n",
      "Requirement already satisfied: nltk in c:\\users\\shami\\appdata\\local\\programs\\python\\python311\\lib\\site-packages (from unstructured) (3.8.1)\n",
      "Requirement already satisfied: tabulate in c:\\users\\shami\\appdata\\local\\programs\\python\\python311\\lib\\site-packages (from unstructured) (0.9.0)\n",
      "Requirement already satisfied: requests in c:\\users\\shami\\appdata\\local\\programs\\python\\python311\\lib\\site-packages (from unstructured) (2.31.0)\n",
      "Requirement already satisfied: beautifulsoup4 in c:\\users\\shami\\appdata\\local\\programs\\python\\python311\\lib\\site-packages (from unstructured) (4.12.2)\n",
      "Requirement already satisfied: emoji in c:\\users\\shami\\appdata\\local\\programs\\python\\python311\\lib\\site-packages (from unstructured) (2.12.1)\n",
      "Requirement already satisfied: dataclasses-json in c:\\users\\shami\\appdata\\local\\programs\\python\\python311\\lib\\site-packages (from unstructured) (0.6.6)\n",
      "Requirement already satisfied: python-iso639 in c:\\users\\shami\\appdata\\local\\programs\\python\\python311\\lib\\site-packages (from unstructured) (2024.4.27)\n",
      "Requirement already satisfied: langdetect in c:\\users\\shami\\appdata\\local\\programs\\python\\python311\\lib\\site-packages (from unstructured) (1.0.9)\n",
      "Requirement already satisfied: numpy in c:\\users\\shami\\appdata\\local\\programs\\python\\python311\\lib\\site-packages (from unstructured) (1.26.4)\n",
      "Requirement already satisfied: rapidfuzz in c:\\users\\shami\\appdata\\local\\programs\\python\\python311\\lib\\site-packages (from unstructured) (3.9.2)\n",
      "Requirement already satisfied: backoff in c:\\users\\shami\\appdata\\local\\programs\\python\\python311\\lib\\site-packages (from unstructured) (2.2.1)\n",
      "Requirement already satisfied: typing-extensions in c:\\users\\shami\\appdata\\local\\programs\\python\\python311\\lib\\site-packages (from unstructured) (4.9.0)\n",
      "Requirement already satisfied: unstructured-client in c:\\users\\shami\\appdata\\local\\programs\\python\\python311\\lib\\site-packages (from unstructured) (0.22.0)\n",
      "Requirement already satisfied: wrapt in c:\\users\\shami\\appdata\\local\\programs\\python\\python311\\lib\\site-packages (from unstructured) (1.16.0)\n",
      "Requirement already satisfied: soupsieve>1.2 in c:\\users\\shami\\appdata\\local\\programs\\python\\python311\\lib\\site-packages (from beautifulsoup4->unstructured) (2.4.1)\n",
      "Requirement already satisfied: marshmallow<4.0.0,>=3.18.0 in c:\\users\\shami\\appdata\\local\\programs\\python\\python311\\lib\\site-packages (from dataclasses-json->unstructured) (3.20.2)\n",
      "Requirement already satisfied: typing-inspect<1,>=0.4.0 in c:\\users\\shami\\appdata\\local\\programs\\python\\python311\\lib\\site-packages (from dataclasses-json->unstructured) (0.9.0)\n",
      "Requirement already satisfied: six in c:\\users\\shami\\appdata\\local\\programs\\python\\python311\\lib\\site-packages (from langdetect->unstructured) (1.16.0)\n",
      "Requirement already satisfied: click in c:\\users\\shami\\appdata\\local\\programs\\python\\python311\\lib\\site-packages (from nltk->unstructured) (8.1.7)\n",
      "Requirement already satisfied: joblib in c:\\users\\shami\\appdata\\local\\programs\\python\\python311\\lib\\site-packages (from nltk->unstructured) (1.2.0)\n",
      "Requirement already satisfied: regex>=2021.8.3 in c:\\users\\shami\\appdata\\local\\programs\\python\\python311\\lib\\site-packages (from nltk->unstructured) (2023.3.23)\n",
      "Requirement already satisfied: tqdm in c:\\users\\shami\\appdata\\local\\programs\\python\\python311\\lib\\site-packages (from nltk->unstructured) (4.65.0)\n",
      "Requirement already satisfied: charset-normalizer<4,>=2 in c:\\users\\shami\\appdata\\local\\programs\\python\\python311\\lib\\site-packages (from requests->unstructured) (3.3.2)\n",
      "Requirement already satisfied: idna<4,>=2.5 in c:\\users\\shami\\appdata\\local\\programs\\python\\python311\\lib\\site-packages (from requests->unstructured) (3.6)\n",
      "Requirement already satisfied: urllib3<3,>=1.21.1 in c:\\users\\shami\\appdata\\local\\programs\\python\\python311\\lib\\site-packages (from requests->unstructured) (1.26.18)\n",
      "Requirement already satisfied: certifi>=2017.4.17 in c:\\users\\shami\\appdata\\local\\programs\\python\\python311\\lib\\site-packages (from requests->unstructured) (2023.11.17)\n",
      "Requirement already satisfied: deepdiff>=6.0 in c:\\users\\shami\\appdata\\local\\programs\\python\\python311\\lib\\site-packages (from unstructured-client->unstructured) (6.3.0)\n",
      "Requirement already satisfied: jsonpath-python>=1.0.6 in c:\\users\\shami\\appdata\\local\\programs\\python\\python311\\lib\\site-packages (from unstructured-client->unstructured) (1.0.6)\n",
      "Requirement already satisfied: mypy-extensions>=1.0.0 in c:\\users\\shami\\appdata\\local\\programs\\python\\python311\\lib\\site-packages (from unstructured-client->unstructured) (1.0.0)\n",
      "Requirement already satisfied: packaging>=23.1 in c:\\users\\shami\\appdata\\local\\programs\\python\\python311\\lib\\site-packages (from unstructured-client->unstructured) (23.2)\n",
      "Requirement already satisfied: pypdf>=4.0 in c:\\users\\shami\\appdata\\local\\programs\\python\\python311\\lib\\site-packages (from unstructured-client->unstructured) (4.2.0)\n",
      "Requirement already satisfied: python-dateutil>=2.8.2 in c:\\users\\shami\\appdata\\local\\programs\\python\\python311\\lib\\site-packages (from unstructured-client->unstructured) (2.8.2)\n",
      "Requirement already satisfied: ordered-set<4.2.0,>=4.0.2 in c:\\users\\shami\\appdata\\local\\programs\\python\\python311\\lib\\site-packages (from deepdiff>=6.0->unstructured-client->unstructured) (4.1.0)\n",
      "Requirement already satisfied: colorama in c:\\users\\shami\\appdata\\local\\programs\\python\\python311\\lib\\site-packages (from click->nltk->unstructured) (0.4.6)\n",
      "Note: you may need to restart the kernel to use updated packages.\n"
     ]
    },
    {
     "name": "stderr",
     "output_type": "stream",
     "text": [
      "\n",
      "[notice] A new release of pip is available: 23.1.2 -> 24.0\n",
      "[notice] To update, run: python.exe -m pip install --upgrade pip\n"
     ]
    }
   ],
   "source": [
    "pip install unstructured"
   ]
  },
  {
   "cell_type": "code",
   "execution_count": 10,
   "metadata": {},
   "outputs": [
    {
     "name": "stdout",
     "output_type": "stream",
     "text": [
      "Note: you may need to restart the kernel to use updated packages.\n",
      "Requirement already satisfied: unstructured[local-inference] in c:\\users\\shami\\appdata\\local\\programs\\python\\python311\\lib\\site-packages (0.14.3)\n",
      "Requirement already satisfied: chardet in c:\\users\\shami\\appdata\\local\\programs\\python\\python311\\lib\\site-packages (from unstructured[local-inference]) (5.2.0)\n",
      "Requirement already satisfied: filetype in c:\\users\\shami\\appdata\\local\\programs\\python\\python311\\lib\\site-packages (from unstructured[local-inference]) (1.2.0)\n",
      "Requirement already satisfied: python-magic in c:\\users\\shami\\appdata\\local\\programs\\python\\python311\\lib\\site-packages (from unstructured[local-inference]) (0.4.27)\n",
      "Requirement already satisfied: lxml in c:\\users\\shami\\appdata\\local\\programs\\python\\python311\\lib\\site-packages (from unstructured[local-inference]) (4.9.2)\n",
      "Requirement already satisfied: nltk in c:\\users\\shami\\appdata\\local\\programs\\python\\python311\\lib\\site-packages (from unstructured[local-inference]) (3.8.1)\n",
      "Requirement already satisfied: tabulate in c:\\users\\shami\\appdata\\local\\programs\\python\\python311\\lib\\site-packages (from unstructured[local-inference]) (0.9.0)\n",
      "Requirement already satisfied: requests in c:\\users\\shami\\appdata\\local\\programs\\python\\python311\\lib\\site-packages (from unstructured[local-inference]) (2.31.0)\n",
      "Requirement already satisfied: beautifulsoup4 in c:\\users\\shami\\appdata\\local\\programs\\python\\python311\\lib\\site-packages (from unstructured[local-inference]) (4.12.2)\n",
      "Requirement already satisfied: emoji in c:\\users\\shami\\appdata\\local\\programs\\python\\python311\\lib\\site-packages (from unstructured[local-inference]) (2.12.1)\n",
      "Requirement already satisfied: dataclasses-json in c:\\users\\shami\\appdata\\local\\programs\\python\\python311\\lib\\site-packages (from unstructured[local-inference]) (0.6.6)\n",
      "Requirement already satisfied: python-iso639 in c:\\users\\shami\\appdata\\local\\programs\\python\\python311\\lib\\site-packages (from unstructured[local-inference]) (2024.4.27)\n",
      "Requirement already satisfied: langdetect in c:\\users\\shami\\appdata\\local\\programs\\python\\python311\\lib\\site-packages (from unstructured[local-inference]) (1.0.9)\n",
      "Requirement already satisfied: numpy in c:\\users\\shami\\appdata\\local\\programs\\python\\python311\\lib\\site-packages (from unstructured[local-inference]) (1.26.4)\n",
      "Requirement already satisfied: rapidfuzz in c:\\users\\shami\\appdata\\local\\programs\\python\\python311\\lib\\site-packages (from unstructured[local-inference]) (3.9.2)\n",
      "Requirement already satisfied: backoff in c:\\users\\shami\\appdata\\local\\programs\\python\\python311\\lib\\site-packages (from unstructured[local-inference]) (2.2.1)\n",
      "Requirement already satisfied: typing-extensions in c:\\users\\shami\\appdata\\local\\programs\\python\\python311\\lib\\site-packages (from unstructured[local-inference]) (4.9.0)\n",
      "Requirement already satisfied: unstructured-client in c:\\users\\shami\\appdata\\local\\programs\\python\\python311\\lib\\site-packages (from unstructured[local-inference]) (0.22.0)\n",
      "Requirement already satisfied: wrapt in c:\\users\\shami\\appdata\\local\\programs\\python\\python311\\lib\\site-packages (from unstructured[local-inference]) (1.16.0)\n",
      "Requirement already satisfied: msg-parser in c:\\users\\shami\\appdata\\local\\programs\\python\\python311\\lib\\site-packages (from unstructured[local-inference]) (1.2.0)\n",
      "Requirement already satisfied: pypdf in c:\\users\\shami\\appdata\\local\\programs\\python\\python311\\lib\\site-packages (from unstructured[local-inference]) (4.2.0)\n",
      "Requirement already satisfied: unstructured.pytesseract>=0.3.12 in c:\\users\\shami\\appdata\\local\\programs\\python\\python311\\lib\\site-packages (from unstructured[local-inference]) (0.3.12)\n",
      "Requirement already satisfied: xlrd in c:\\users\\shami\\appdata\\local\\programs\\python\\python311\\lib\\site-packages (from unstructured[local-inference]) (2.0.1)\n",
      "Requirement already satisfied: python-pptx<=0.6.23 in c:\\users\\shami\\appdata\\local\\programs\\python\\python311\\lib\\site-packages (from unstructured[local-inference]) (0.6.23)\n",
      "Requirement already satisfied: pikepdf in c:\\users\\shami\\appdata\\local\\programs\\python\\python311\\lib\\site-packages (from unstructured[local-inference]) (8.15.1)\n",
      "Requirement already satisfied: pdfminer.six in c:\\users\\shami\\appdata\\local\\programs\\python\\python311\\lib\\site-packages (from unstructured[local-inference]) (20231228)\n",
      "Requirement already satisfied: google-cloud-vision in c:\\users\\shami\\appdata\\local\\programs\\python\\python311\\lib\\site-packages (from unstructured[local-inference]) (3.7.2)\n",
      "Requirement already satisfied: pandas in c:\\users\\shami\\appdata\\local\\programs\\python\\python311\\lib\\site-packages (from unstructured[local-inference]) (1.5.3)\n",
      "Requirement already satisfied: openpyxl in c:\\users\\shami\\appdata\\local\\programs\\python\\python311\\lib\\site-packages (from unstructured[local-inference]) (3.1.0)\n",
      "Requirement already satisfied: effdet in c:\\users\\shami\\appdata\\local\\programs\\python\\python311\\lib\\site-packages (from unstructured[local-inference]) (0.4.1)\n",
      "Requirement already satisfied: unstructured-inference==0.7.33 in c:\\users\\shami\\appdata\\local\\programs\\python\\python311\\lib\\site-packages (from unstructured[local-inference]) (0.7.33)\n",
      "Requirement already satisfied: pdf2image in c:\\users\\shami\\appdata\\local\\programs\\python\\python311\\lib\\site-packages (from unstructured[local-inference]) (1.17.0)\n",
      "Requirement already satisfied: markdown in c:\\users\\shami\\appdata\\local\\programs\\python\\python311\\lib\\site-packages (from unstructured[local-inference]) (3.5.2)\n",
      "Requirement already satisfied: onnx in c:\\users\\shami\\appdata\\local\\programs\\python\\python311\\lib\\site-packages (from unstructured[local-inference]) (1.16.1)\n",
      "Requirement already satisfied: pypandoc in c:\\users\\shami\\appdata\\local\\programs\\python\\python311\\lib\\site-packages (from unstructured[local-inference]) (1.13)\n",
      "Requirement already satisfied: pillow-heif in c:\\users\\shami\\appdata\\local\\programs\\python\\python311\\lib\\site-packages (from unstructured[local-inference]) (0.16.0)\n",
      "Requirement already satisfied: networkx in c:\\users\\shami\\appdata\\local\\programs\\python\\python311\\lib\\site-packages (from unstructured[local-inference]) (3.1)\n",
      "Requirement already satisfied: pytesseract in c:\\users\\shami\\appdata\\local\\programs\\python\\python311\\lib\\site-packages (from unstructured[local-inference]) (0.3.10)\n",
      "Requirement already satisfied: python-docx in c:\\users\\shami\\appdata\\local\\programs\\python\\python311\\lib\\site-packages (from unstructured[local-inference]) (1.1.2)\n",
      "Requirement already satisfied: layoutparser in c:\\users\\shami\\appdata\\local\\programs\\python\\python311\\lib\\site-packages (from unstructured-inference==0.7.33->unstructured[local-inference]) (0.3.4)\n",
      "Requirement already satisfied: python-multipart in c:\\users\\shami\\appdata\\local\\programs\\python\\python311\\lib\\site-packages (from unstructured-inference==0.7.33->unstructured[local-inference]) (0.0.6)\n",
      "Requirement already satisfied: huggingface-hub in c:\\users\\shami\\appdata\\local\\programs\\python\\python311\\lib\\site-packages (from unstructured-inference==0.7.33->unstructured[local-inference]) (0.23.2)\n",
      "Requirement already satisfied: opencv-python!=4.7.0.68 in c:\\users\\shami\\appdata\\local\\programs\\python\\python311\\lib\\site-packages (from unstructured-inference==0.7.33->unstructured[local-inference]) (4.7.0.72)\n",
      "Requirement already satisfied: onnxruntime>=1.17.0 in c:\\users\\shami\\appdata\\local\\programs\\python\\python311\\lib\\site-packages (from unstructured-inference==0.7.33->unstructured[local-inference]) (1.18.0)\n",
      "Requirement already satisfied: matplotlib in c:\\users\\shami\\appdata\\local\\programs\\python\\python311\\lib\\site-packages (from unstructured-inference==0.7.33->unstructured[local-inference]) (3.7.0)\n",
      "Requirement already satisfied: torch in c:\\users\\shami\\appdata\\local\\programs\\python\\python311\\lib\\site-packages (from unstructured-inference==0.7.33->unstructured[local-inference]) (2.0.0)\n",
      "Requirement already satisfied: timm in c:\\users\\shami\\appdata\\local\\programs\\python\\python311\\lib\\site-packages (from unstructured-inference==0.7.33->unstructured[local-inference]) (1.0.3)\n",
      "Requirement already satisfied: transformers>=4.25.1 in c:\\users\\shami\\appdata\\local\\programs\\python\\python311\\lib\\site-packages (from unstructured-inference==0.7.33->unstructured[local-inference]) (4.41.1)\n",
      "Requirement already satisfied: Pillow>=3.3.2 in c:\\users\\shami\\appdata\\local\\programs\\python\\python311\\lib\\site-packages (from python-pptx<=0.6.23->unstructured[local-inference]) (10.3.0)\n",
      "Requirement already satisfied: XlsxWriter>=0.5.7 in c:\\users\\shami\\appdata\\local\\programs\\python\\python311\\lib\\site-packages (from python-pptx<=0.6.23->unstructured[local-inference]) (3.2.0)\n",
      "Requirement already satisfied: packaging>=21.3 in c:\\users\\shami\\appdata\\local\\programs\\python\\python311\\lib\\site-packages (from unstructured.pytesseract>=0.3.12->unstructured[local-inference]) (23.2)\n",
      "Requirement already satisfied: soupsieve>1.2 in c:\\users\\shami\\appdata\\local\\programs\\python\\python311\\lib\\site-packages (from beautifulsoup4->unstructured[local-inference]) (2.4.1)\n",
      "Requirement already satisfied: marshmallow<4.0.0,>=3.18.0 in c:\\users\\shami\\appdata\\local\\programs\\python\\python311\\lib\\site-packages (from dataclasses-json->unstructured[local-inference]) (3.20.2)\n",
      "Requirement already satisfied: typing-inspect<1,>=0.4.0 in c:\\users\\shami\\appdata\\local\\programs\\python\\python311\\lib\\site-packages (from dataclasses-json->unstructured[local-inference]) (0.9.0)\n",
      "Requirement already satisfied: torchvision in c:\\users\\shami\\appdata\\local\\programs\\python\\python311\\lib\\site-packages (from effdet->unstructured[local-inference]) (0.15.1)\n",
      "Requirement already satisfied: pycocotools>=2.0.2 in c:\\users\\shami\\appdata\\local\\programs\\python\\python311\\lib\\site-packages (from effdet->unstructured[local-inference]) (2.0.7)\n",
      "Requirement already satisfied: omegaconf>=2.0 in c:\\users\\shami\\appdata\\local\\programs\\python\\python311\\lib\\site-packages (from effdet->unstructured[local-inference]) (2.3.0)\n",
      "Requirement already satisfied: google-api-core[grpc]!=2.0.*,!=2.1.*,!=2.10.*,!=2.2.*,!=2.3.*,!=2.4.*,!=2.5.*,!=2.6.*,!=2.7.*,!=2.8.*,!=2.9.*,<3.0.0dev,>=1.34.1 in c:\\users\\shami\\appdata\\local\\programs\\python\\python311\\lib\\site-packages (from google-cloud-vision->unstructured[local-inference]) (2.11.0)\n",
      "Requirement already satisfied: google-auth!=2.24.0,!=2.25.0,<3.0.0dev,>=2.14.1 in c:\\users\\shami\\appdata\\local\\programs\\python\\python311\\lib\\site-packages (from google-cloud-vision->unstructured[local-inference]) (2.17.3)\n",
      "Requirement already satisfied: proto-plus<2.0.0dev,>=1.22.3 in c:\\users\\shami\\appdata\\local\\programs\\python\\python311\\lib\\site-packages (from google-cloud-vision->unstructured[local-inference]) (1.23.0)\n",
      "Requirement already satisfied: protobuf!=3.20.0,!=3.20.1,!=4.21.0,!=4.21.1,!=4.21.2,!=4.21.3,!=4.21.4,!=4.21.5,<5.0.0dev,>=3.19.5 in c:\\users\\shami\\appdata\\local\\programs\\python\\python311\\lib\\site-packages (from google-cloud-vision->unstructured[local-inference]) (4.25.2)\n",
      "Requirement already satisfied: six in c:\\users\\shami\\appdata\\local\\programs\\python\\python311\\lib\\site-packages (from langdetect->unstructured[local-inference]) (1.16.0)\n",
      "Requirement already satisfied: olefile>=0.46 in c:\\users\\shami\\appdata\\local\\programs\\python\\python311\\lib\\site-packages (from msg-parser->unstructured[local-inference]) (0.47)\n",
      "Requirement already satisfied: click in c:\\users\\shami\\appdata\\local\\programs\\python\\python311\\lib\\site-packages (from nltk->unstructured[local-inference]) (8.1.7)\n",
      "Requirement already satisfied: joblib in c:\\users\\shami\\appdata\\local\\programs\\python\\python311\\lib\\site-packages (from nltk->unstructured[local-inference]) (1.2.0)\n",
      "Requirement already satisfied: regex>=2021.8.3 in c:\\users\\shami\\appdata\\local\\programs\\python\\python311\\lib\\site-packages (from nltk->unstructured[local-inference]) (2023.3.23)\n",
      "Requirement already satisfied: tqdm in c:\\users\\shami\\appdata\\local\\programs\\python\\python311\\lib\\site-packages (from nltk->unstructured[local-inference]) (4.65.0)\n",
      "Requirement already satisfied: et-xmlfile in c:\\users\\shami\\appdata\\local\\programs\\python\\python311\\lib\\site-packages (from openpyxl->unstructured[local-inference]) (1.1.0)\n",
      "Requirement already satisfied: python-dateutil>=2.8.1 in c:\\users\\shami\\appdata\\local\\programs\\python\\python311\\lib\\site-packages (from pandas->unstructured[local-inference]) (2.8.2)\n",
      "Requirement already satisfied: pytz>=2020.1 in c:\\users\\shami\\appdata\\local\\programs\\python\\python311\\lib\\site-packages (from pandas->unstructured[local-inference]) (2023.3.post1)\n",
      "Requirement already satisfied: charset-normalizer>=2.0.0 in c:\\users\\shami\\appdata\\local\\programs\\python\\python311\\lib\\site-packages (from pdfminer.six->unstructured[local-inference]) (3.3.2)\n",
      "Requirement already satisfied: cryptography>=36.0.0 in c:\\users\\shami\\appdata\\local\\programs\\python\\python311\\lib\\site-packages (from pdfminer.six->unstructured[local-inference]) (41.0.7)\n",
      "Requirement already satisfied: Deprecated in c:\\users\\shami\\appdata\\local\\programs\\python\\python311\\lib\\site-packages (from pikepdf->unstructured[local-inference]) (1.2.14)\n",
      "Requirement already satisfied: idna<4,>=2.5 in c:\\users\\shami\\appdata\\local\\programs\\python\\python311\\lib\\site-packages (from requests->unstructured[local-inference]) (3.6)\n",
      "Requirement already satisfied: urllib3<3,>=1.21.1 in c:\\users\\shami\\appdata\\local\\programs\\python\\python311\\lib\\site-packages (from requests->unstructured[local-inference]) (1.26.18)\n",
      "Requirement already satisfied: certifi>=2017.4.17 in c:\\users\\shami\\appdata\\local\\programs\\python\\python311\\lib\\site-packages (from requests->unstructured[local-inference]) (2023.11.17)\n",
      "Requirement already satisfied: deepdiff>=6.0 in c:\\users\\shami\\appdata\\local\\programs\\python\\python311\\lib\\site-packages (from unstructured-client->unstructured[local-inference]) (6.3.0)\n",
      "Requirement already satisfied: jsonpath-python>=1.0.6 in c:\\users\\shami\\appdata\\local\\programs\\python\\python311\\lib\\site-packages (from unstructured-client->unstructured[local-inference]) (1.0.6)\n",
      "Requirement already satisfied: mypy-extensions>=1.0.0 in c:\\users\\shami\\appdata\\local\\programs\\python\\python311\\lib\\site-packages (from unstructured-client->unstructured[local-inference]) (1.0.0)\n",
      "Requirement already satisfied: cffi>=1.12 in c:\\users\\shami\\appdata\\local\\programs\\python\\python311\\lib\\site-packages (from cryptography>=36.0.0->pdfminer.six->unstructured[local-inference]) (1.16.0)\n",
      "Requirement already satisfied: ordered-set<4.2.0,>=4.0.2 in c:\\users\\shami\\appdata\\local\\programs\\python\\python311\\lib\\site-packages (from deepdiff>=6.0->unstructured-client->unstructured[local-inference]) (4.1.0)\n",
      "Requirement already satisfied: googleapis-common-protos<2.0dev,>=1.56.2 in c:\\users\\shami\\appdata\\local\\programs\\python\\python311\\lib\\site-packages (from google-api-core[grpc]!=2.0.*,!=2.1.*,!=2.10.*,!=2.2.*,!=2.3.*,!=2.4.*,!=2.5.*,!=2.6.*,!=2.7.*,!=2.8.*,!=2.9.*,<3.0.0dev,>=1.34.1->google-cloud-vision->unstructured[local-inference]) (1.62.0)\n",
      "Requirement already satisfied: grpcio<2.0dev,>=1.33.2 in c:\\users\\shami\\appdata\\local\\programs\\python\\python311\\lib\\site-packages (from google-api-core[grpc]!=2.0.*,!=2.1.*,!=2.10.*,!=2.2.*,!=2.3.*,!=2.4.*,!=2.5.*,!=2.6.*,!=2.7.*,!=2.8.*,!=2.9.*,<3.0.0dev,>=1.34.1->google-cloud-vision->unstructured[local-inference]) (1.60.0)\n",
      "Requirement already satisfied: grpcio-status<2.0dev,>=1.33.2 in c:\\users\\shami\\appdata\\local\\programs\\python\\python311\\lib\\site-packages (from google-api-core[grpc]!=2.0.*,!=2.1.*,!=2.10.*,!=2.2.*,!=2.3.*,!=2.4.*,!=2.5.*,!=2.6.*,!=2.7.*,!=2.8.*,!=2.9.*,<3.0.0dev,>=1.34.1->google-cloud-vision->unstructured[local-inference]) (1.54.0)\n",
      "Requirement already satisfied: cachetools<6.0,>=2.0.0 in c:\\users\\shami\\appdata\\local\\programs\\python\\python311\\lib\\site-packages (from google-auth!=2.24.0,!=2.25.0,<3.0.0dev,>=2.14.1->google-cloud-vision->unstructured[local-inference]) (5.3.0)\n",
      "Requirement already satisfied: pyasn1-modules>=0.2.1 in c:\\users\\shami\\appdata\\local\\programs\\python\\python311\\lib\\site-packages (from google-auth!=2.24.0,!=2.25.0,<3.0.0dev,>=2.14.1->google-cloud-vision->unstructured[local-inference]) (0.3.0)\n",
      "Requirement already satisfied: rsa<5,>=3.1.4 in c:\\users\\shami\\appdata\\local\\programs\\python\\python311\\lib\\site-packages (from google-auth!=2.24.0,!=2.25.0,<3.0.0dev,>=2.14.1->google-cloud-vision->unstructured[local-inference]) (4.9)\n",
      "Requirement already satisfied: antlr4-python3-runtime==4.9.* in c:\\users\\shami\\appdata\\local\\programs\\python\\python311\\lib\\site-packages (from omegaconf>=2.0->effdet->unstructured[local-inference]) (4.9.3)\n",
      "Requirement already satisfied: PyYAML>=5.1.0 in c:\\users\\shami\\appdata\\local\\programs\\python\\python311\\lib\\site-packages (from omegaconf>=2.0->effdet->unstructured[local-inference]) (6.0.1)\n",
      "Requirement already satisfied: coloredlogs in c:\\users\\shami\\appdata\\local\\programs\\python\\python311\\lib\\site-packages (from onnxruntime>=1.17.0->unstructured-inference==0.7.33->unstructured[local-inference]) (15.0.1)\n",
      "Requirement already satisfied: flatbuffers in c:\\users\\shami\\appdata\\local\\programs\\python\\python311\\lib\\site-packages (from onnxruntime>=1.17.0->unstructured-inference==0.7.33->unstructured[local-inference]) (2.0)\n",
      "Requirement already satisfied: sympy in c:\\users\\shami\\appdata\\local\\programs\\python\\python311\\lib\\site-packages (from onnxruntime>=1.17.0->unstructured-inference==0.7.33->unstructured[local-inference]) (1.11.1)\n",
      "Requirement already satisfied: contourpy>=1.0.1 in c:\\users\\shami\\appdata\\local\\programs\\python\\python311\\lib\\site-packages (from matplotlib->unstructured-inference==0.7.33->unstructured[local-inference]) (1.0.7)\n",
      "Requirement already satisfied: cycler>=0.10 in c:\\users\\shami\\appdata\\local\\programs\\python\\python311\\lib\\site-packages (from matplotlib->unstructured-inference==0.7.33->unstructured[local-inference]) (0.11.0)\n",
      "Requirement already satisfied: fonttools>=4.22.0 in c:\\users\\shami\\appdata\\local\\programs\\python\\python311\\lib\\site-packages (from matplotlib->unstructured-inference==0.7.33->unstructured[local-inference]) (4.38.0)\n",
      "Requirement already satisfied: kiwisolver>=1.0.1 in c:\\users\\shami\\appdata\\local\\programs\\python\\python311\\lib\\site-packages (from matplotlib->unstructured-inference==0.7.33->unstructured[local-inference]) (1.4.4)\n",
      "Requirement already satisfied: pyparsing>=2.3.1 in c:\\users\\shami\\appdata\\local\\programs\\python\\python311\\lib\\site-packages (from matplotlib->unstructured-inference==0.7.33->unstructured[local-inference]) (3.0.9)\n",
      "Requirement already satisfied: safetensors in c:\\users\\shami\\appdata\\local\\programs\\python\\python311\\lib\\site-packages (from timm->unstructured-inference==0.7.33->unstructured[local-inference]) (0.4.3)\n",
      "Requirement already satisfied: filelock in c:\\users\\shami\\appdata\\local\\programs\\python\\python311\\lib\\site-packages (from torch->unstructured-inference==0.7.33->unstructured[local-inference]) (3.11.0)\n",
      "Requirement already satisfied: jinja2 in c:\\users\\shami\\appdata\\local\\programs\\python\\python311\\lib\\site-packages (from torch->unstructured-inference==0.7.33->unstructured[local-inference]) (3.1.3)\n",
      "Requirement already satisfied: tokenizers<0.20,>=0.19 in c:\\users\\shami\\appdata\\local\\programs\\python\\python311\\lib\\site-packages (from transformers>=4.25.1->unstructured-inference==0.7.33->unstructured[local-inference]) (0.19.1)\n",
      "Requirement already satisfied: fsspec>=2023.5.0 in c:\\users\\shami\\appdata\\local\\programs\\python\\python311\\lib\\site-packages (from huggingface-hub->unstructured-inference==0.7.33->unstructured[local-inference]) (2023.12.2)\n",
      "Requirement already satisfied: colorama in c:\\users\\shami\\appdata\\local\\programs\\python\\python311\\lib\\site-packages (from tqdm->nltk->unstructured[local-inference]) (0.4.6)\n",
      "Requirement already satisfied: scipy in c:\\users\\shami\\appdata\\local\\programs\\python\\python311\\lib\\site-packages (from layoutparser->unstructured-inference==0.7.33->unstructured[local-inference]) (1.10.0)\n",
      "Requirement already satisfied: iopath in c:\\users\\shami\\appdata\\local\\programs\\python\\python311\\lib\\site-packages (from layoutparser->unstructured-inference==0.7.33->unstructured[local-inference]) (0.1.10)\n",
      "Requirement already satisfied: pdfplumber in c:\\users\\shami\\appdata\\local\\programs\\python\\python311\\lib\\site-packages (from layoutparser->unstructured-inference==0.7.33->unstructured[local-inference]) (0.11.0)\n",
      "Requirement already satisfied: pycparser in c:\\users\\shami\\appdata\\local\\programs\\python\\python311\\lib\\site-packages (from cffi>=1.12->cryptography>=36.0.0->pdfminer.six->unstructured[local-inference]) (2.21)\n",
      "Requirement already satisfied: pyasn1<0.6.0,>=0.4.6 in c:\\users\\shami\\appdata\\local\\programs\\python\\python311\\lib\\site-packages (from pyasn1-modules>=0.2.1->google-auth!=2.24.0,!=2.25.0,<3.0.0dev,>=2.14.1->google-cloud-vision->unstructured[local-inference]) (0.5.0)\n",
      "Requirement already satisfied: humanfriendly>=9.1 in c:\\users\\shami\\appdata\\local\\programs\\python\\python311\\lib\\site-packages (from coloredlogs->onnxruntime>=1.17.0->unstructured-inference==0.7.33->unstructured[local-inference]) (10.0)\n",
      "Requirement already satisfied: portalocker in c:\\users\\shami\\appdata\\local\\programs\\python\\python311\\lib\\site-packages (from iopath->layoutparser->unstructured-inference==0.7.33->unstructured[local-inference]) (2.8.2)\n",
      "Requirement already satisfied: MarkupSafe>=2.0 in c:\\users\\shami\\appdata\\local\\programs\\python\\python311\\lib\\site-packages (from jinja2->torch->unstructured-inference==0.7.33->unstructured[local-inference]) (2.1.3)\n",
      "Requirement already satisfied: pypdfium2>=4.18.0 in c:\\users\\shami\\appdata\\local\\programs\\python\\python311\\lib\\site-packages (from pdfplumber->layoutparser->unstructured-inference==0.7.33->unstructured[local-inference]) (4.30.0)\n",
      "Requirement already satisfied: mpmath>=0.19 in c:\\users\\shami\\appdata\\local\\programs\\python\\python311\\lib\\site-packages (from sympy->onnxruntime>=1.17.0->unstructured-inference==0.7.33->unstructured[local-inference]) (1.3.0)\n",
      "Requirement already satisfied: pyreadline3 in c:\\users\\shami\\appdata\\local\\programs\\python\\python311\\lib\\site-packages (from humanfriendly>=9.1->coloredlogs->onnxruntime>=1.17.0->unstructured-inference==0.7.33->unstructured[local-inference]) (3.4.1)\n",
      "Requirement already satisfied: pywin32>=226 in c:\\users\\shami\\appdata\\local\\programs\\python\\python311\\lib\\site-packages (from portalocker->iopath->layoutparser->unstructured-inference==0.7.33->unstructured[local-inference]) (305)\n"
     ]
    },
    {
     "name": "stderr",
     "output_type": "stream",
     "text": [
      "\n",
      "[notice] A new release of pip is available: 23.1.2 -> 24.0\n",
      "[notice] To update, run: python.exe -m pip install --upgrade pip\n"
     ]
    }
   ],
   "source": [
    "pip install unstructured[local-inference]"
   ]
  },
  {
   "cell_type": "code",
   "execution_count": 13,
   "metadata": {},
   "outputs": [
    {
     "name": "stdout",
     "output_type": "stream",
     "text": [
      "Collecting poppler-utils\n",
      "  Downloading poppler_utils-0.1.0-py3-none-any.whl (9.2 kB)\n",
      "Requirement already satisfied: Click>=7.0 in c:\\users\\shami\\appdata\\local\\programs\\python\\python311\\lib\\site-packages (from poppler-utils) (8.1.7)\n",
      "Requirement already satisfied: colorama in c:\\users\\shami\\appdata\\local\\programs\\python\\python311\\lib\\site-packages (from Click>=7.0->poppler-utils) (0.4.6)\n",
      "Installing collected packages: poppler-utils\n",
      "Successfully installed poppler-utils-0.1.0\n",
      "Note: you may need to restart the kernel to use updated packages.\n"
     ]
    },
    {
     "name": "stderr",
     "output_type": "stream",
     "text": [
      "\n",
      "[notice] A new release of pip is available: 23.1.2 -> 24.0\n",
      "[notice] To update, run: python.exe -m pip install --upgrade pip\n"
     ]
    }
   ],
   "source": [
    "pip install poppler-utils"
   ]
  },
  {
   "cell_type": "code",
   "execution_count": 17,
   "metadata": {},
   "outputs": [
    {
     "name": "stdout",
     "output_type": "stream",
     "text": [
      "Collecting langchain-community\n",
      "  Downloading langchain_community-0.2.1-py3-none-any.whl (2.1 MB)\n",
      "                                              0.0/2.1 MB ? eta -:--:--\n",
      "                                              0.0/2.1 MB 1.9 MB/s eta 0:00:02\n",
      "     -------                                  0.4/2.1 MB 4.9 MB/s eta 0:00:01\n",
      "     ---------------------                    1.2/2.1 MB 9.2 MB/s eta 0:00:01\n",
      "     --------------------------------------   2.0/2.1 MB 11.8 MB/s eta 0:00:01\n",
      "     ---------------------------------------- 2.1/2.1 MB 12.4 MB/s eta 0:00:00\n",
      "Requirement already satisfied: PyYAML>=5.3 in c:\\users\\shami\\appdata\\local\\programs\\python\\python311\\lib\\site-packages (from langchain-community) (6.0.1)\n",
      "Requirement already satisfied: SQLAlchemy<3,>=1.4 in c:\\users\\shami\\appdata\\local\\programs\\python\\python311\\lib\\site-packages (from langchain-community) (1.4.51)\n",
      "Requirement already satisfied: aiohttp<4.0.0,>=3.8.3 in c:\\users\\shami\\appdata\\local\\programs\\python\\python311\\lib\\site-packages (from langchain-community) (3.9.1)\n",
      "Requirement already satisfied: dataclasses-json<0.7,>=0.5.7 in c:\\users\\shami\\appdata\\local\\programs\\python\\python311\\lib\\site-packages (from langchain-community) (0.6.6)\n",
      "Requirement already satisfied: langchain<0.3.0,>=0.2.0 in c:\\users\\shami\\appdata\\local\\programs\\python\\python311\\lib\\site-packages (from langchain-community) (0.2.1)\n",
      "Requirement already satisfied: langchain-core<0.3.0,>=0.2.0 in c:\\users\\shami\\appdata\\local\\programs\\python\\python311\\lib\\site-packages (from langchain-community) (0.2.2)\n",
      "Requirement already satisfied: langsmith<0.2.0,>=0.1.0 in c:\\users\\shami\\appdata\\local\\programs\\python\\python311\\lib\\site-packages (from langchain-community) (0.1.65)\n",
      "Requirement already satisfied: numpy<2,>=1 in c:\\users\\shami\\appdata\\local\\programs\\python\\python311\\lib\\site-packages (from langchain-community) (1.26.4)\n",
      "Requirement already satisfied: requests<3,>=2 in c:\\users\\shami\\appdata\\local\\programs\\python\\python311\\lib\\site-packages (from langchain-community) (2.31.0)\n",
      "Requirement already satisfied: tenacity<9.0.0,>=8.1.0 in c:\\users\\shami\\appdata\\local\\programs\\python\\python311\\lib\\site-packages (from langchain-community) (8.2.3)\n",
      "Requirement already satisfied: attrs>=17.3.0 in c:\\users\\shami\\appdata\\local\\programs\\python\\python311\\lib\\site-packages (from aiohttp<4.0.0,>=3.8.3->langchain-community) (23.2.0)\n",
      "Requirement already satisfied: multidict<7.0,>=4.5 in c:\\users\\shami\\appdata\\local\\programs\\python\\python311\\lib\\site-packages (from aiohttp<4.0.0,>=3.8.3->langchain-community) (6.0.4)\n",
      "Requirement already satisfied: yarl<2.0,>=1.0 in c:\\users\\shami\\appdata\\local\\programs\\python\\python311\\lib\\site-packages (from aiohttp<4.0.0,>=3.8.3->langchain-community) (1.9.4)\n",
      "Requirement already satisfied: frozenlist>=1.1.1 in c:\\users\\shami\\appdata\\local\\programs\\python\\python311\\lib\\site-packages (from aiohttp<4.0.0,>=3.8.3->langchain-community) (1.4.1)\n",
      "Requirement already satisfied: aiosignal>=1.1.2 in c:\\users\\shami\\appdata\\local\\programs\\python\\python311\\lib\\site-packages (from aiohttp<4.0.0,>=3.8.3->langchain-community) (1.3.1)\n",
      "Requirement already satisfied: marshmallow<4.0.0,>=3.18.0 in c:\\users\\shami\\appdata\\local\\programs\\python\\python311\\lib\\site-packages (from dataclasses-json<0.7,>=0.5.7->langchain-community) (3.20.2)\n",
      "Requirement already satisfied: typing-inspect<1,>=0.4.0 in c:\\users\\shami\\appdata\\local\\programs\\python\\python311\\lib\\site-packages (from dataclasses-json<0.7,>=0.5.7->langchain-community) (0.9.0)\n",
      "Requirement already satisfied: langchain-text-splitters<0.3.0,>=0.2.0 in c:\\users\\shami\\appdata\\local\\programs\\python\\python311\\lib\\site-packages (from langchain<0.3.0,>=0.2.0->langchain-community) (0.2.0)\n",
      "Requirement already satisfied: pydantic<3,>=1 in c:\\users\\shami\\appdata\\local\\programs\\python\\python311\\lib\\site-packages (from langchain<0.3.0,>=0.2.0->langchain-community) (2.5.3)\n",
      "Requirement already satisfied: jsonpatch<2.0,>=1.33 in c:\\users\\shami\\appdata\\local\\programs\\python\\python311\\lib\\site-packages (from langchain-core<0.3.0,>=0.2.0->langchain-community) (1.33)\n",
      "Requirement already satisfied: packaging<24.0,>=23.2 in c:\\users\\shami\\appdata\\local\\programs\\python\\python311\\lib\\site-packages (from langchain-core<0.3.0,>=0.2.0->langchain-community) (23.2)\n",
      "Requirement already satisfied: orjson<4.0.0,>=3.9.14 in c:\\users\\shami\\appdata\\local\\programs\\python\\python311\\lib\\site-packages (from langsmith<0.2.0,>=0.1.0->langchain-community) (3.10.3)\n",
      "Requirement already satisfied: charset-normalizer<4,>=2 in c:\\users\\shami\\appdata\\local\\programs\\python\\python311\\lib\\site-packages (from requests<3,>=2->langchain-community) (3.3.2)\n",
      "Requirement already satisfied: idna<4,>=2.5 in c:\\users\\shami\\appdata\\local\\programs\\python\\python311\\lib\\site-packages (from requests<3,>=2->langchain-community) (3.6)\n",
      "Requirement already satisfied: urllib3<3,>=1.21.1 in c:\\users\\shami\\appdata\\local\\programs\\python\\python311\\lib\\site-packages (from requests<3,>=2->langchain-community) (1.26.18)\n",
      "Requirement already satisfied: certifi>=2017.4.17 in c:\\users\\shami\\appdata\\local\\programs\\python\\python311\\lib\\site-packages (from requests<3,>=2->langchain-community) (2023.11.17)\n",
      "Requirement already satisfied: greenlet!=0.4.17 in c:\\users\\shami\\appdata\\local\\programs\\python\\python311\\lib\\site-packages (from SQLAlchemy<3,>=1.4->langchain-community) (3.0.3)\n",
      "Requirement already satisfied: jsonpointer>=1.9 in c:\\users\\shami\\appdata\\local\\programs\\python\\python311\\lib\\site-packages (from jsonpatch<2.0,>=1.33->langchain-core<0.3.0,>=0.2.0->langchain-community) (2.3)\n",
      "Requirement already satisfied: annotated-types>=0.4.0 in c:\\users\\shami\\appdata\\local\\programs\\python\\python311\\lib\\site-packages (from pydantic<3,>=1->langchain<0.3.0,>=0.2.0->langchain-community) (0.6.0)\n",
      "Requirement already satisfied: pydantic-core==2.14.6 in c:\\users\\shami\\appdata\\local\\programs\\python\\python311\\lib\\site-packages (from pydantic<3,>=1->langchain<0.3.0,>=0.2.0->langchain-community) (2.14.6)\n",
      "Requirement already satisfied: typing-extensions>=4.6.1 in c:\\users\\shami\\appdata\\local\\programs\\python\\python311\\lib\\site-packages (from pydantic<3,>=1->langchain<0.3.0,>=0.2.0->langchain-community) (4.9.0)\n",
      "Requirement already satisfied: mypy-extensions>=0.3.0 in c:\\users\\shami\\appdata\\local\\programs\\python\\python311\\lib\\site-packages (from typing-inspect<1,>=0.4.0->dataclasses-json<0.7,>=0.5.7->langchain-community) (1.0.0)\n",
      "Installing collected packages: langchain-community\n",
      "Successfully installed langchain-community-0.2.1\n",
      "Note: you may need to restart the kernel to use updated packages.\n"
     ]
    },
    {
     "name": "stderr",
     "output_type": "stream",
     "text": [
      "\n",
      "[notice] A new release of pip is available: 23.1.2 -> 24.0\n",
      "[notice] To update, run: python.exe -m pip install --upgrade pip\n"
     ]
    }
   ],
   "source": [
    "pip install -U langchain-community"
   ]
  },
  {
   "cell_type": "code",
   "execution_count": 91,
   "metadata": {},
   "outputs": [
    {
     "data": {
      "text/plain": [
       "1"
      ]
     },
     "execution_count": 91,
     "metadata": {},
     "output_type": "execute_result"
    }
   ],
   "source": [
    "from langchain.document_loaders import DirectoryLoader\n",
    "\n",
    "directory = 'RAGdocs'\n",
    "\n",
    "def load_docs(directory):\n",
    "  loader = DirectoryLoader(directory)\n",
    "  documents = loader.load()\n",
    "  return documents\n",
    "\n",
    "documents = load_docs(directory)\n",
    "len(documents)"
   ]
  },
  {
   "cell_type": "code",
   "execution_count": 93,
   "metadata": {},
   "outputs": [
    {
     "name": "stdout",
     "output_type": "stream",
     "text": [
      "65\n"
     ]
    }
   ],
   "source": [
    "from langchain.text_splitter import RecursiveCharacterTextSplitter\n",
    "\n",
    "def split_docs(documents,chunk_size=500,chunk_overlap=20):\n",
    "  text_splitter = RecursiveCharacterTextSplitter(chunk_size=chunk_size, chunk_overlap=chunk_overlap)\n",
    "  docs = text_splitter.split_documents(documents)\n",
    "  return docs\n",
    "\n",
    "docs = split_docs(documents)\n",
    "print(len(docs))"
   ]
  },
  {
   "cell_type": "code",
   "execution_count": 95,
   "metadata": {},
   "outputs": [
    {
     "name": "stdout",
     "output_type": "stream",
     "text": [
      "4. Mooncusser\n"
     ]
    }
   ],
   "source": [
    "print(docs[50].page_content)"
   ]
  },
  {
   "cell_type": "code",
   "execution_count": 25,
   "metadata": {},
   "outputs": [
    {
     "name": "stdout",
     "output_type": "stream",
     "text": [
      "Collecting tiktoken\n",
      "  Downloading tiktoken-0.7.0-cp311-cp311-win_amd64.whl (799 kB)\n",
      "                                              0.0/799.0 kB ? eta -:--:--\n",
      "     --                                      61.4/799.0 kB 1.1 MB/s eta 0:00:01\n",
      "     ---------                              204.8/799.0 kB 2.5 MB/s eta 0:00:01\n",
      "     -------------------                    409.6/799.0 kB 4.2 MB/s eta 0:00:01\n",
      "     -------------------------------------- 799.0/799.0 kB 5.1 MB/s eta 0:00:00\n",
      "Requirement already satisfied: regex>=2022.1.18 in c:\\users\\shami\\appdata\\local\\programs\\python\\python311\\lib\\site-packages (from tiktoken) (2023.3.23)\n",
      "Requirement already satisfied: requests>=2.26.0 in c:\\users\\shami\\appdata\\local\\programs\\python\\python311\\lib\\site-packages (from tiktoken) (2.31.0)\n",
      "Requirement already satisfied: charset-normalizer<4,>=2 in c:\\users\\shami\\appdata\\local\\programs\\python\\python311\\lib\\site-packages (from requests>=2.26.0->tiktoken) (3.3.2)\n",
      "Requirement already satisfied: idna<4,>=2.5 in c:\\users\\shami\\appdata\\local\\programs\\python\\python311\\lib\\site-packages (from requests>=2.26.0->tiktoken) (3.6)\n",
      "Requirement already satisfied: urllib3<3,>=1.21.1 in c:\\users\\shami\\appdata\\local\\programs\\python\\python311\\lib\\site-packages (from requests>=2.26.0->tiktoken) (1.26.18)\n",
      "Requirement already satisfied: certifi>=2017.4.17 in c:\\users\\shami\\appdata\\local\\programs\\python\\python311\\lib\\site-packages (from requests>=2.26.0->tiktoken) (2023.11.17)\n",
      "Installing collected packages: tiktoken\n",
      "Successfully installed tiktoken-0.7.0\n",
      "Note: you may need to restart the kernel to use updated packages.\n"
     ]
    },
    {
     "name": "stderr",
     "output_type": "stream",
     "text": [
      "\n",
      "[notice] A new release of pip is available: 23.1.2 -> 24.0\n",
      "[notice] To update, run: python.exe -m pip install --upgrade pip\n"
     ]
    }
   ],
   "source": [
    "pip install tiktoken"
   ]
  },
  {
   "cell_type": "code",
   "execution_count": 96,
   "metadata": {},
   "outputs": [
    {
     "name": "stderr",
     "output_type": "stream",
     "text": [
      "c:\\Users\\shami\\AppData\\Local\\Programs\\Python\\Python311\\Lib\\site-packages\\huggingface_hub\\file_download.py:1132: FutureWarning: `resume_download` is deprecated and will be removed in version 1.0.0. Downloads always resume when possible. If you want to force a new download, use `force_download=True`.\n",
      "  warnings.warn(\n"
     ]
    }
   ],
   "source": [
    "from langchain.embeddings import SentenceTransformerEmbeddings\n",
    "embeddings = SentenceTransformerEmbeddings(model_name=\"all-MiniLM-L6-v2\")"
   ]
  },
  {
   "cell_type": "code",
   "execution_count": 97,
   "metadata": {},
   "outputs": [
    {
     "data": {
      "text/plain": [
       "384"
      ]
     },
     "execution_count": 97,
     "metadata": {},
     "output_type": "execute_result"
    }
   ],
   "source": [
    "query_result = embeddings.embed_query(\"Hello world\")\n",
    "len(query_result)"
   ]
  },
  {
   "cell_type": "code",
   "execution_count": 28,
   "metadata": {},
   "outputs": [
    {
     "name": "stdout",
     "output_type": "stream",
     "text": [
      "Requirement already satisfied: pinecone-client in c:\\users\\shami\\appdata\\local\\programs\\python\\python311\\lib\\site-packages (4.1.0)\n",
      "Requirement already satisfied: certifi>=2019.11.17 in c:\\users\\shami\\appdata\\local\\programs\\python\\python311\\lib\\site-packages (from pinecone-client) (2023.11.17)\n",
      "Requirement already satisfied: tqdm>=4.64.1 in c:\\users\\shami\\appdata\\local\\programs\\python\\python311\\lib\\site-packages (from pinecone-client) (4.65.0)\n",
      "Requirement already satisfied: typing-extensions>=3.7.4 in c:\\users\\shami\\appdata\\local\\programs\\python\\python311\\lib\\site-packages (from pinecone-client) (4.9.0)\n",
      "Requirement already satisfied: urllib3>=1.26.0 in c:\\users\\shami\\appdata\\local\\programs\\python\\python311\\lib\\site-packages (from pinecone-client) (1.26.18)\n",
      "Requirement already satisfied: colorama in c:\\users\\shami\\appdata\\local\\programs\\python\\python311\\lib\\site-packages (from tqdm>=4.64.1->pinecone-client) (0.4.6)\n",
      "Note: you may need to restart the kernel to use updated packages.\n"
     ]
    },
    {
     "name": "stderr",
     "output_type": "stream",
     "text": [
      "\n",
      "[notice] A new release of pip is available: 23.1.2 -> 24.0\n",
      "[notice] To update, run: python.exe -m pip install --upgrade pip\n"
     ]
    }
   ],
   "source": [
    "pip install pinecone-client"
   ]
  },
  {
   "cell_type": "code",
   "execution_count": 51,
   "metadata": {},
   "outputs": [
    {
     "name": "stdout",
     "output_type": "stream",
     "text": [
      "Collecting langchain_pinecone\n",
      "  Downloading langchain_pinecone-0.1.1-py3-none-any.whl (8.4 kB)\n",
      "Requirement already satisfied: langchain-core<0.3,>=0.1.52 in c:\\users\\shami\\appdata\\local\\programs\\python\\python311\\lib\\site-packages (from langchain_pinecone) (0.2.2)\n",
      "Requirement already satisfied: numpy<2,>=1 in c:\\users\\shami\\appdata\\local\\programs\\python\\python311\\lib\\site-packages (from langchain_pinecone) (1.26.4)\n",
      "Collecting pinecone-client<4.0.0,>=3.2.2 (from langchain_pinecone)\n",
      "  Downloading pinecone_client-3.2.2-py3-none-any.whl (215 kB)\n",
      "                                              0.0/215.9 kB ? eta -:--:--\n",
      "     ----------------------------           163.8/215.9 kB 5.0 MB/s eta 0:00:01\n",
      "     -------------------------------------- 215.9/215.9 kB 4.4 MB/s eta 0:00:00\n",
      "Requirement already satisfied: PyYAML>=5.3 in c:\\users\\shami\\appdata\\local\\programs\\python\\python311\\lib\\site-packages (from langchain-core<0.3,>=0.1.52->langchain_pinecone) (6.0.1)\n",
      "Requirement already satisfied: jsonpatch<2.0,>=1.33 in c:\\users\\shami\\appdata\\local\\programs\\python\\python311\\lib\\site-packages (from langchain-core<0.3,>=0.1.52->langchain_pinecone) (1.33)\n",
      "Requirement already satisfied: langsmith<0.2.0,>=0.1.0 in c:\\users\\shami\\appdata\\local\\programs\\python\\python311\\lib\\site-packages (from langchain-core<0.3,>=0.1.52->langchain_pinecone) (0.1.65)\n",
      "Requirement already satisfied: packaging<24.0,>=23.2 in c:\\users\\shami\\appdata\\local\\programs\\python\\python311\\lib\\site-packages (from langchain-core<0.3,>=0.1.52->langchain_pinecone) (23.2)\n",
      "Requirement already satisfied: pydantic<3,>=1 in c:\\users\\shami\\appdata\\local\\programs\\python\\python311\\lib\\site-packages (from langchain-core<0.3,>=0.1.52->langchain_pinecone) (2.5.3)\n",
      "Requirement already satisfied: tenacity<9.0.0,>=8.1.0 in c:\\users\\shami\\appdata\\local\\programs\\python\\python311\\lib\\site-packages (from langchain-core<0.3,>=0.1.52->langchain_pinecone) (8.2.3)\n",
      "Requirement already satisfied: certifi>=2019.11.17 in c:\\users\\shami\\appdata\\local\\programs\\python\\python311\\lib\\site-packages (from pinecone-client<4.0.0,>=3.2.2->langchain_pinecone) (2023.11.17)\n",
      "Requirement already satisfied: tqdm>=4.64.1 in c:\\users\\shami\\appdata\\local\\programs\\python\\python311\\lib\\site-packages (from pinecone-client<4.0.0,>=3.2.2->langchain_pinecone) (4.65.0)\n",
      "Requirement already satisfied: typing-extensions>=3.7.4 in c:\\users\\shami\\appdata\\local\\programs\\python\\python311\\lib\\site-packages (from pinecone-client<4.0.0,>=3.2.2->langchain_pinecone) (4.9.0)\n",
      "Requirement already satisfied: urllib3>=1.26.0 in c:\\users\\shami\\appdata\\local\\programs\\python\\python311\\lib\\site-packages (from pinecone-client<4.0.0,>=3.2.2->langchain_pinecone) (1.26.18)\n",
      "Requirement already satisfied: jsonpointer>=1.9 in c:\\users\\shami\\appdata\\local\\programs\\python\\python311\\lib\\site-packages (from jsonpatch<2.0,>=1.33->langchain-core<0.3,>=0.1.52->langchain_pinecone) (2.3)\n",
      "Requirement already satisfied: orjson<4.0.0,>=3.9.14 in c:\\users\\shami\\appdata\\local\\programs\\python\\python311\\lib\\site-packages (from langsmith<0.2.0,>=0.1.0->langchain-core<0.3,>=0.1.52->langchain_pinecone) (3.10.3)\n",
      "Requirement already satisfied: requests<3,>=2 in c:\\users\\shami\\appdata\\local\\programs\\python\\python311\\lib\\site-packages (from langsmith<0.2.0,>=0.1.0->langchain-core<0.3,>=0.1.52->langchain_pinecone) (2.31.0)\n",
      "Requirement already satisfied: annotated-types>=0.4.0 in c:\\users\\shami\\appdata\\local\\programs\\python\\python311\\lib\\site-packages (from pydantic<3,>=1->langchain-core<0.3,>=0.1.52->langchain_pinecone) (0.6.0)\n",
      "Requirement already satisfied: pydantic-core==2.14.6 in c:\\users\\shami\\appdata\\local\\programs\\python\\python311\\lib\\site-packages (from pydantic<3,>=1->langchain-core<0.3,>=0.1.52->langchain_pinecone) (2.14.6)\n",
      "Requirement already satisfied: colorama in c:\\users\\shami\\appdata\\local\\programs\\python\\python311\\lib\\site-packages (from tqdm>=4.64.1->pinecone-client<4.0.0,>=3.2.2->langchain_pinecone) (0.4.6)\n",
      "Requirement already satisfied: charset-normalizer<4,>=2 in c:\\users\\shami\\appdata\\local\\programs\\python\\python311\\lib\\site-packages (from requests<3,>=2->langsmith<0.2.0,>=0.1.0->langchain-core<0.3,>=0.1.52->langchain_pinecone) (3.3.2)\n",
      "Requirement already satisfied: idna<4,>=2.5 in c:\\users\\shami\\appdata\\local\\programs\\python\\python311\\lib\\site-packages (from requests<3,>=2->langsmith<0.2.0,>=0.1.0->langchain-core<0.3,>=0.1.52->langchain_pinecone) (3.6)\n",
      "Installing collected packages: pinecone-client, langchain_pinecone\n",
      "  Attempting uninstall: pinecone-client\n",
      "    Found existing installation: pinecone-client 4.1.0\n",
      "    Uninstalling pinecone-client-4.1.0:\n",
      "      Successfully uninstalled pinecone-client-4.1.0\n",
      "Successfully installed langchain_pinecone-0.1.1 pinecone-client-3.2.2\n",
      "Note: you may need to restart the kernel to use updated packages.\n"
     ]
    },
    {
     "name": "stderr",
     "output_type": "stream",
     "text": [
      "\n",
      "[notice] A new release of pip is available: 23.1.2 -> 24.0\n",
      "[notice] To update, run: python.exe -m pip install --upgrade pip\n"
     ]
    }
   ],
   "source": [
    "pip install langchain_pinecone"
   ]
  },
  {
   "cell_type": "code",
   "execution_count": 116,
   "metadata": {},
   "outputs": [],
   "source": [
    "import os\n",
    "from langchain_pinecone import PineconeVectorStore\n",
    "from langchain_openai import OpenAIEmbeddings\n",
    "from langchain_community.document_loaders import TextLoader\n",
    "from langchain_text_splitters import CharacterTextSplitter\n",
    "\n",
    "os.environ['PINECONE_API_KEY'] = '6af43f47-f2bd-4ef5-9a3c-315257881c1f'\n",
    "\n",
    "index_name = \"boston-restaurants\"\n",
    "embeddings1 = OpenAIEmbeddings()\n",
    "\n",
    "# Create a PineconeVectorStore from documents\n",
    "vectorstore_from_docs = PineconeVectorStore.from_documents(\n",
    "    docs,\n",
    "    namespace=\"ns1\",\n",
    "    index_name=index_name,\n",
    "    embedding=embeddings,\n",
    ")\n"
   ]
  },
  {
   "cell_type": "code",
   "execution_count": 84,
   "metadata": {},
   "outputs": [
    {
     "name": "stdout",
     "output_type": "stream",
     "text": [
      "Collecting langchain_openai\n",
      "  Downloading langchain_openai-0.1.8-py3-none-any.whl (38 kB)\n",
      "Requirement already satisfied: langchain-core<0.3,>=0.2.2 in c:\\users\\shami\\appdata\\local\\programs\\python\\python311\\lib\\site-packages (from langchain_openai) (0.2.2)\n",
      "Requirement already satisfied: openai<2.0.0,>=1.26.0 in c:\\users\\shami\\appdata\\local\\programs\\python\\python311\\lib\\site-packages (from langchain_openai) (1.30.5)\n",
      "Requirement already satisfied: tiktoken<1,>=0.7 in c:\\users\\shami\\appdata\\local\\programs\\python\\python311\\lib\\site-packages (from langchain_openai) (0.7.0)\n",
      "Requirement already satisfied: PyYAML>=5.3 in c:\\users\\shami\\appdata\\local\\programs\\python\\python311\\lib\\site-packages (from langchain-core<0.3,>=0.2.2->langchain_openai) (6.0.1)\n",
      "Requirement already satisfied: jsonpatch<2.0,>=1.33 in c:\\users\\shami\\appdata\\local\\programs\\python\\python311\\lib\\site-packages (from langchain-core<0.3,>=0.2.2->langchain_openai) (1.33)\n",
      "Requirement already satisfied: langsmith<0.2.0,>=0.1.0 in c:\\users\\shami\\appdata\\local\\programs\\python\\python311\\lib\\site-packages (from langchain-core<0.3,>=0.2.2->langchain_openai) (0.1.65)\n",
      "Requirement already satisfied: packaging<24.0,>=23.2 in c:\\users\\shami\\appdata\\local\\programs\\python\\python311\\lib\\site-packages (from langchain-core<0.3,>=0.2.2->langchain_openai) (23.2)\n",
      "Requirement already satisfied: pydantic<3,>=1 in c:\\users\\shami\\appdata\\local\\programs\\python\\python311\\lib\\site-packages (from langchain-core<0.3,>=0.2.2->langchain_openai) (2.5.3)\n",
      "Requirement already satisfied: tenacity<9.0.0,>=8.1.0 in c:\\users\\shami\\appdata\\local\\programs\\python\\python311\\lib\\site-packages (from langchain-core<0.3,>=0.2.2->langchain_openai) (8.2.3)\n",
      "Requirement already satisfied: anyio<5,>=3.5.0 in c:\\users\\shami\\appdata\\local\\programs\\python\\python311\\lib\\site-packages (from openai<2.0.0,>=1.26.0->langchain_openai) (4.2.0)\n",
      "Requirement already satisfied: distro<2,>=1.7.0 in c:\\users\\shami\\appdata\\local\\programs\\python\\python311\\lib\\site-packages (from openai<2.0.0,>=1.26.0->langchain_openai) (1.9.0)\n",
      "Requirement already satisfied: httpx<1,>=0.23.0 in c:\\users\\shami\\appdata\\local\\programs\\python\\python311\\lib\\site-packages (from openai<2.0.0,>=1.26.0->langchain_openai) (0.23.3)\n",
      "Requirement already satisfied: sniffio in c:\\users\\shami\\appdata\\local\\programs\\python\\python311\\lib\\site-packages (from openai<2.0.0,>=1.26.0->langchain_openai) (1.3.0)\n",
      "Requirement already satisfied: tqdm>4 in c:\\users\\shami\\appdata\\local\\programs\\python\\python311\\lib\\site-packages (from openai<2.0.0,>=1.26.0->langchain_openai) (4.65.0)\n",
      "Requirement already satisfied: typing-extensions<5,>=4.7 in c:\\users\\shami\\appdata\\local\\programs\\python\\python311\\lib\\site-packages (from openai<2.0.0,>=1.26.0->langchain_openai) (4.9.0)\n",
      "Requirement already satisfied: regex>=2022.1.18 in c:\\users\\shami\\appdata\\local\\programs\\python\\python311\\lib\\site-packages (from tiktoken<1,>=0.7->langchain_openai) (2023.3.23)\n",
      "Requirement already satisfied: requests>=2.26.0 in c:\\users\\shami\\appdata\\local\\programs\\python\\python311\\lib\\site-packages (from tiktoken<1,>=0.7->langchain_openai) (2.31.0)\n",
      "Requirement already satisfied: idna>=2.8 in c:\\users\\shami\\appdata\\local\\programs\\python\\python311\\lib\\site-packages (from anyio<5,>=3.5.0->openai<2.0.0,>=1.26.0->langchain_openai) (3.6)\n",
      "Requirement already satisfied: certifi in c:\\users\\shami\\appdata\\local\\programs\\python\\python311\\lib\\site-packages (from httpx<1,>=0.23.0->openai<2.0.0,>=1.26.0->langchain_openai) (2023.11.17)\n",
      "Requirement already satisfied: httpcore<0.17.0,>=0.15.0 in c:\\users\\shami\\appdata\\local\\programs\\python\\python311\\lib\\site-packages (from httpx<1,>=0.23.0->openai<2.0.0,>=1.26.0->langchain_openai) (0.16.3)\n",
      "Requirement already satisfied: rfc3986[idna2008]<2,>=1.3 in c:\\users\\shami\\appdata\\local\\programs\\python\\python311\\lib\\site-packages (from httpx<1,>=0.23.0->openai<2.0.0,>=1.26.0->langchain_openai) (1.5.0)\n",
      "Requirement already satisfied: jsonpointer>=1.9 in c:\\users\\shami\\appdata\\local\\programs\\python\\python311\\lib\\site-packages (from jsonpatch<2.0,>=1.33->langchain-core<0.3,>=0.2.2->langchain_openai) (2.3)\n",
      "Requirement already satisfied: orjson<4.0.0,>=3.9.14 in c:\\users\\shami\\appdata\\local\\programs\\python\\python311\\lib\\site-packages (from langsmith<0.2.0,>=0.1.0->langchain-core<0.3,>=0.2.2->langchain_openai) (3.10.3)\n",
      "Requirement already satisfied: annotated-types>=0.4.0 in c:\\users\\shami\\appdata\\local\\programs\\python\\python311\\lib\\site-packages (from pydantic<3,>=1->langchain-core<0.3,>=0.2.2->langchain_openai) (0.6.0)\n",
      "Requirement already satisfied: pydantic-core==2.14.6 in c:\\users\\shami\\appdata\\local\\programs\\python\\python311\\lib\\site-packages (from pydantic<3,>=1->langchain-core<0.3,>=0.2.2->langchain_openai) (2.14.6)\n",
      "Requirement already satisfied: charset-normalizer<4,>=2 in c:\\users\\shami\\appdata\\local\\programs\\python\\python311\\lib\\site-packages (from requests>=2.26.0->tiktoken<1,>=0.7->langchain_openai) (3.3.2)\n",
      "Requirement already satisfied: urllib3<3,>=1.21.1 in c:\\users\\shami\\appdata\\local\\programs\\python\\python311\\lib\\site-packages (from requests>=2.26.0->tiktoken<1,>=0.7->langchain_openai) (1.26.18)\n",
      "Requirement already satisfied: colorama in c:\\users\\shami\\appdata\\local\\programs\\python\\python311\\lib\\site-packages (from tqdm>4->openai<2.0.0,>=1.26.0->langchain_openai) (0.4.6)\n",
      "Requirement already satisfied: h11<0.15,>=0.13 in c:\\users\\shami\\appdata\\local\\programs\\python\\python311\\lib\\site-packages (from httpcore<0.17.0,>=0.15.0->httpx<1,>=0.23.0->openai<2.0.0,>=1.26.0->langchain_openai) (0.14.0)\n",
      "Installing collected packages: langchain_openai\n",
      "Successfully installed langchain_openai-0.1.8\n",
      "Note: you may need to restart the kernel to use updated packages.\n"
     ]
    },
    {
     "name": "stderr",
     "output_type": "stream",
     "text": [
      "\n",
      "[notice] A new release of pip is available: 23.1.2 -> 24.0\n",
      "[notice] To update, run: python.exe -m pip install --upgrade pip\n"
     ]
    }
   ],
   "source": [
    "pip install langchain_openai"
   ]
  },
  {
   "cell_type": "code",
   "execution_count": 124,
   "metadata": {},
   "outputs": [
    {
     "data": {
      "text/plain": [
       "[Document(page_content='Barra brings the brightness of Mexico City to Somerville’s Union Square. This eatery may be small on space, but it’s big on acid and is sure to leave patrons’ taste buds tingling— whether it’s with its guacamole piled onto freshly fried chicharrón, its cactus salad or its aguachile. Alongside a selection of top-notch tacos and seasonal tamales, diners can sip on flights of the finest mezcal, refreshing pints of michelada and margaritas rimmed with chapulines for a truly authentic touch.', metadata={'source': 'RAGdocs\\\\RestaurantsinBoston.txt'})]"
      ]
     },
     "execution_count": 124,
     "metadata": {},
     "output_type": "execute_result"
    }
   ],
   "source": [
    "def get_similiar_docs(query,k=1,score=False):\n",
    "  if score:\n",
    "    similar_docs = vectorstore_from_docs.similarity_search_with_score(query,k=k)\n",
    "  else:\n",
    "    similar_docs = vectorstore_from_docs.similarity_search(query,k=k)\n",
    "  return similar_docs\n",
    "\n",
    "query = \" Boston in terms of mexican food\"\n",
    "similar_docs = get_similiar_docs(query)\n",
    "similar_docs"
   ]
  }
 ],
 "metadata": {
  "language_info": {
   "name": "python"
  }
 },
 "nbformat": 4,
 "nbformat_minor": 2
}
